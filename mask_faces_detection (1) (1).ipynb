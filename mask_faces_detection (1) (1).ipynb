{
 "cells": [
  {
   "cell_type": "code",
   "execution_count": null,
   "metadata": {
    "colab": {},
    "colab_type": "code",
    "id": "h5SBO0mrsyNh"
   },
   "outputs": [],
   "source": [
    "from tensorflow.keras.applications.mobilenet_v2 import preprocess_input\n",
    "from tensorflow.keras.preprocessing.image import img_to_array\n",
    "from tensorflow.keras.models import load_model\n",
    "from imutils.video import VideoStream\n",
    "import numpy as np\n",
    "import argparse\n",
    "import imutils\n",
    "import cv2 \n",
    "from google.colab.patches import cv2_imshow"
   ]
  },
  {
   "cell_type": "code",
   "execution_count": null,
   "metadata": {
    "colab": {},
    "colab_type": "code",
    "id": "sb5mL3tNs4vy"
   },
   "outputs": [],
   "source": [
    "proto_txt_path = '/content/drive/My Drive/mask/deploy.prototxt'\n",
    "model_path = '/content/drive/My Drive/mask/res10_300x300_ssd_iter_140000.caffemodel'\n",
    "face_detector = cv2.dnn.readNetFromCaffe(proto_txt_path, model_path)\n",
    "mask_detector = load_model('/content/drive/My Drive/mask/mask_detector.model')"
   ]
  },
  {
   "cell_type": "code",
   "execution_count": null,
   "metadata": {
    "colab": {
     "base_uri": "https://localhost:8080/",
     "height": 1000
    },
    "colab_type": "code",
    "id": "N61FyhgntBQd",
    "outputId": "c91e7356-7d7b-44ea-80ba-aacb29cc0cec",
    "scrolled": false
   },
   "outputs": [],
   "source": [
    "cap = cv2.VideoCapture('/content/drive/My Drive/mask/cmask.mp4')\n",
    "\n",
    "while True:\n",
    "    ret, frame = cap.read()\n",
    "    frame = imutils.resize(frame, width=400)\n",
    "    (h, w) = frame.shape[:2]\n",
    "    blob = cv2.dnn.blobFromImage(frame, 1.0, (300, 300), (104, 177, 123))\n",
    "\n",
    "    face_detector.setInput(blob)\n",
    "    detections = face_detector.forward()\n",
    "\n",
    "    faces = []\n",
    "    bbox = []\n",
    "    results = []\n",
    "\n",
    "    for i in range(0, detections.shape[2]):\n",
    "        confidence = detections[0, 0, i, 2]\n",
    "\n",
    "        if confidence > 0.5:\n",
    "            box = detections[0, 0, i, 3:7] * np.array([w, h, w, h])\n",
    "            (startX, startY, endX, endY) = box.astype(\"int\")\n",
    "\n",
    "            face = frame[startY:endY, startX:endX]\n",
    "            face = cv2.cvtColor(face, cv2.COLOR_BGR2RGB)\n",
    "            face = cv2.resize(face, (224, 224))\n",
    "            face = img_to_array(face)\n",
    "            face = preprocess_input(face)\n",
    "            face = np.expand_dims(face, axis=0)\n",
    "\n",
    "            faces.append(face)\n",
    "            bbox.append((startX, startY, endX, endY))\n",
    "\n",
    "    if len(faces) > 0:\n",
    "        results = mask_detector.predict(faces)\n",
    "\n",
    "    for (face_box, result) in zip(bbox, results):\n",
    "        (startX, startY, endX, endY) = face_box\n",
    "        (mask, withoutMask) = result\n",
    "\n",
    "        label = \"\"\n",
    "        if mask > withoutMask:\n",
    "            label = \"Mask\"\n",
    "            color = (0, 255, 0)\n",
    "        else:\n",
    "            label = \"No Mask\"\n",
    "            color = (0, 0, 204)\n",
    "         \n",
    "        cv2.putText(frame, label, (startX, startY-10), cv2.FONT_HERSHEY_COMPLEX, 0.50, color, 2)\n",
    "        cv2.rectangle(frame, (startX+1, startY+1), (endX+2, endY+2), color, 1)\n",
    "\n",
    "        cv2_imshow(frame)\n",
    "        key = cv2.waitKey(1) & 0xFF\n",
    "\n",
    "        if key == ord('q'):\n",
    "            break"
   ]
  },
  {
   "cell_type": "code",
   "execution_count": null,
   "metadata": {
    "colab": {},
    "colab_type": "code",
    "id": "AkwNyAafxbz2"
   },
   "outputs": [],
   "source": [
    "frame_width = int(cap.get(3)) \n",
    "frame_height = int(cap.get(4)) \n",
    "   \n",
    "size = (frame_width, frame_height) \n",
    "\n",
    "result = cv2.VideoWriter('vedio.mp4',  \n",
    "                         cv2.VideoWriter_fourcc(*'MJPG'), \n",
    "                         10, size) "
   ]
  }
 ],
 "metadata": {
  "colab": {
   "collapsed_sections": [],
   "name": "mask_faces_detection.ipynb",
   "provenance": []
  },
  "kernelspec": {
   "display_name": "Python 3",
   "language": "python",
   "name": "python3"
  },
  "language_info": {
   "codemirror_mode": {
    "name": "ipython",
    "version": 3
   },
   "file_extension": ".py",
   "mimetype": "text/x-python",
   "name": "python",
   "nbconvert_exporter": "python",
   "pygments_lexer": "ipython3",
   "version": "3.8.3"
  }
 },
 "nbformat": 4,
 "nbformat_minor": 1
}
